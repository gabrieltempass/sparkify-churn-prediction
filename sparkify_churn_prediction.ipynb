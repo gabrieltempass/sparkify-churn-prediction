{
 "cells": [
  {
   "cell_type": "markdown",
   "metadata": {},
   "source": [
    "# Sparkify Churn Prediction"
   ]
  },
  {
   "cell_type": "markdown",
   "metadata": {},
   "source": [
    "## 1. Load and clean dataset\n",
    "Loading and cleaning the dataset, checking for invalid or missing data - for example, records without user IDs or session IDs."
   ]
  },
  {
   "cell_type": "code",
   "execution_count": 244,
   "metadata": {},
   "outputs": [],
   "source": [
    "# Import libraries\n",
    "\n",
    "from pyspark.sql import SparkSession\n",
    "from pyspark.sql.functions import col, countDistinct, udf, from_unixtime, substring\n",
    "from pyspark.sql.types import LongType, IntegerType\n",
    "\n",
    "import pandas as pd\n",
    "import matplotlib.pyplot as plt"
   ]
  },
  {
   "cell_type": "code",
   "execution_count": 104,
   "metadata": {},
   "outputs": [],
   "source": [
    "# Correct autocomplete not working\n",
    "%config Completer.use_jedi = False"
   ]
  },
  {
   "cell_type": "code",
   "execution_count": 105,
   "metadata": {},
   "outputs": [],
   "source": [
    "# Create spark session\n",
    "spark = SparkSession \\\n",
    "    .builder \\\n",
    "    .appName('Sparkify') \\\n",
    "    .getOrCreate()"
   ]
  },
  {
   "cell_type": "code",
   "execution_count": 106,
   "metadata": {},
   "outputs": [
    {
     "data": {
      "text/html": [
       "\n",
       "            <div>\n",
       "                <p><b>SparkSession - in-memory</b></p>\n",
       "                \n",
       "        <div>\n",
       "            <p><b>SparkContext</b></p>\n",
       "\n",
       "            <p><a href=\"http://192.168.2.115:4040\">Spark UI</a></p>\n",
       "\n",
       "            <dl>\n",
       "              <dt>Version</dt>\n",
       "                <dd><code>v2.4.0</code></dd>\n",
       "              <dt>Master</dt>\n",
       "                <dd><code>local[*]</code></dd>\n",
       "              <dt>AppName</dt>\n",
       "                <dd><code>Sparkify</code></dd>\n",
       "            </dl>\n",
       "        </div>\n",
       "        \n",
       "            </div>\n",
       "        "
      ],
      "text/plain": [
       "<pyspark.sql.session.SparkSession at 0x7fc69e5401d0>"
      ]
     },
     "execution_count": 106,
     "metadata": {},
     "output_type": "execute_result"
    }
   ],
   "source": [
    "# Spark UI at localhost:4040\n",
    "spark"
   ]
  },
  {
   "cell_type": "code",
   "execution_count": 276,
   "metadata": {},
   "outputs": [],
   "source": [
    "# Read in full sparkify dataset\n",
    "\n",
    "event_data = 'mini_sparkify_event_data.json'\n",
    "users_log = spark.read.json(event_data)"
   ]
  },
  {
   "cell_type": "code",
   "execution_count": null,
   "metadata": {
    "jupyter": {
     "source_hidden": true
    }
   },
   "outputs": [],
   "source": [
    "# Full dataset (12 Gb, 20 million rows)\n",
    "# event_data = 's3n://udacity-dsnd/sparkify/sparkify_event_data.json'\n",
    "\n",
    "# Mini dataset (128 Mb, 200 thousand rows, 1% of the full dataset)\n",
    "# event_data = 's3n://udacity-dsnd/sparkify/mini_sparkify_event_data.json'\n",
    "\n",
    "# df = spark.read \\\n",
    "#     .option('encoding', 'ISO-8859-1') \\\n",
    "#     .option('lineSep', '\\n') \\\n",
    "#     .json(event_data)\n",
    "\n",
    "# Encodings tried:\n",
    "# iso-8859-1\n",
    "# latin1\n",
    "# cp1252"
   ]
  },
  {
   "cell_type": "code",
   "execution_count": 108,
   "metadata": {
    "collapsed": true,
    "jupyter": {
     "outputs_hidden": true,
     "source_hidden": true
    }
   },
   "outputs": [
    {
     "name": "stdout",
     "output_type": "stream",
     "text": [
      "+-----------------+---------------------------+\n",
      "|artist           |song                       |\n",
      "+-----------------+---------------------------+\n",
      "|ÃÂlafur Arnalds|HÃÂ¦gt_ kemur ljÃÂ³siÃÂ°|\n",
      "+-----------------+---------------------------+\n",
      "\n"
     ]
    }
   ],
   "source": [
    "users_log.createOrReplaceTempView('log_table')\n",
    "spark.sql(\n",
    "    \"\"\"\n",
    "    SELECT\n",
    "        artist,\n",
    "        song\n",
    "    FROM\n",
    "        log_table\n",
    "    WHERE\n",
    "        userID = 124\n",
    "        and sessionId = 420\n",
    "        and itemInSession = 57\n",
    "    \"\"\").show(truncate=False)"
   ]
  },
  {
   "cell_type": "code",
   "execution_count": 277,
   "metadata": {},
   "outputs": [
    {
     "name": "stdout",
     "output_type": "stream",
     "text": [
      "df shape: (286500, 18)\n"
     ]
    }
   ],
   "source": [
    "print('df shape:', (users_log.count(), len(users_log.columns)))"
   ]
  },
  {
   "cell_type": "code",
   "execution_count": 278,
   "metadata": {},
   "outputs": [
    {
     "name": "stdout",
     "output_type": "stream",
     "text": [
      "root\n",
      " |-- artist: string (nullable = true)\n",
      " |-- auth: string (nullable = true)\n",
      " |-- firstName: string (nullable = true)\n",
      " |-- gender: string (nullable = true)\n",
      " |-- itemInSession: long (nullable = true)\n",
      " |-- lastName: string (nullable = true)\n",
      " |-- length: double (nullable = true)\n",
      " |-- level: string (nullable = true)\n",
      " |-- location: string (nullable = true)\n",
      " |-- method: string (nullable = true)\n",
      " |-- page: string (nullable = true)\n",
      " |-- registration: long (nullable = true)\n",
      " |-- sessionId: long (nullable = true)\n",
      " |-- song: string (nullable = true)\n",
      " |-- status: long (nullable = true)\n",
      " |-- ts: long (nullable = true)\n",
      " |-- userAgent: string (nullable = true)\n",
      " |-- userId: string (nullable = true)\n",
      "\n"
     ]
    }
   ],
   "source": [
    "users_log.printSchema()"
   ]
  },
  {
   "cell_type": "code",
   "execution_count": 279,
   "metadata": {},
   "outputs": [],
   "source": [
    "# Adjust the data types\n",
    "\n",
    "users_log = users_log.withColumn('registration', from_unixtime(col('registration') / 1000))\n",
    "users_log = users_log.withColumn('ts', from_unixtime(col('ts') / 1000))\n",
    "users_log = users_log.withColumn('userId', col('userId').cast(LongType()))"
   ]
  },
  {
   "cell_type": "code",
   "execution_count": 281,
   "metadata": {},
   "outputs": [
    {
     "data": {
      "text/html": [
       "<div>\n",
       "<style scoped>\n",
       "    .dataframe tbody tr th:only-of-type {\n",
       "        vertical-align: middle;\n",
       "    }\n",
       "\n",
       "    .dataframe tbody tr th {\n",
       "        vertical-align: top;\n",
       "    }\n",
       "\n",
       "    .dataframe thead th {\n",
       "        text-align: right;\n",
       "    }\n",
       "</style>\n",
       "<table border=\"1\" class=\"dataframe\">\n",
       "  <thead>\n",
       "    <tr style=\"text-align: right;\">\n",
       "      <th></th>\n",
       "      <th>artist</th>\n",
       "      <th>auth</th>\n",
       "      <th>firstName</th>\n",
       "      <th>gender</th>\n",
       "      <th>itemInSession</th>\n",
       "      <th>lastName</th>\n",
       "      <th>length</th>\n",
       "      <th>level</th>\n",
       "      <th>location</th>\n",
       "      <th>method</th>\n",
       "      <th>page</th>\n",
       "      <th>registration</th>\n",
       "      <th>sessionId</th>\n",
       "      <th>song</th>\n",
       "      <th>status</th>\n",
       "      <th>ts</th>\n",
       "      <th>userAgent</th>\n",
       "      <th>userId</th>\n",
       "    </tr>\n",
       "  </thead>\n",
       "  <tbody>\n",
       "    <tr>\n",
       "      <th>0</th>\n",
       "      <td>Martha Tilston</td>\n",
       "      <td>Logged In</td>\n",
       "      <td>Colin</td>\n",
       "      <td>M</td>\n",
       "      <td>50</td>\n",
       "      <td>Freeman</td>\n",
       "      <td>277.89016</td>\n",
       "      <td>paid</td>\n",
       "      <td>Bakersfield, CA</td>\n",
       "      <td>PUT</td>\n",
       "      <td>NextSong</td>\n",
       "      <td>2018-09-28 19:22:42</td>\n",
       "      <td>29</td>\n",
       "      <td>Rockpools</td>\n",
       "      <td>200</td>\n",
       "      <td>2018-09-30 21:01:57</td>\n",
       "      <td>Mozilla/5.0 (Windows NT 6.1; WOW64; rv:31.0) G...</td>\n",
       "      <td>30</td>\n",
       "    </tr>\n",
       "    <tr>\n",
       "      <th>1</th>\n",
       "      <td>Five Iron Frenzy</td>\n",
       "      <td>Logged In</td>\n",
       "      <td>Micah</td>\n",
       "      <td>M</td>\n",
       "      <td>79</td>\n",
       "      <td>Long</td>\n",
       "      <td>236.09424</td>\n",
       "      <td>free</td>\n",
       "      <td>Boston-Cambridge-Newton, MA-NH</td>\n",
       "      <td>PUT</td>\n",
       "      <td>NextSong</td>\n",
       "      <td>2018-09-30 15:20:30</td>\n",
       "      <td>8</td>\n",
       "      <td>Canada</td>\n",
       "      <td>200</td>\n",
       "      <td>2018-09-30 21:03:00</td>\n",
       "      <td>\"Mozilla/5.0 (Windows NT 6.1; WOW64) AppleWebK...</td>\n",
       "      <td>9</td>\n",
       "    </tr>\n",
       "    <tr>\n",
       "      <th>2</th>\n",
       "      <td>Adam Lambert</td>\n",
       "      <td>Logged In</td>\n",
       "      <td>Colin</td>\n",
       "      <td>M</td>\n",
       "      <td>51</td>\n",
       "      <td>Freeman</td>\n",
       "      <td>282.82730</td>\n",
       "      <td>paid</td>\n",
       "      <td>Bakersfield, CA</td>\n",
       "      <td>PUT</td>\n",
       "      <td>NextSong</td>\n",
       "      <td>2018-09-28 19:22:42</td>\n",
       "      <td>29</td>\n",
       "      <td>Time For Miracles</td>\n",
       "      <td>200</td>\n",
       "      <td>2018-09-30 21:06:34</td>\n",
       "      <td>Mozilla/5.0 (Windows NT 6.1; WOW64; rv:31.0) G...</td>\n",
       "      <td>30</td>\n",
       "    </tr>\n",
       "    <tr>\n",
       "      <th>3</th>\n",
       "      <td>Enigma</td>\n",
       "      <td>Logged In</td>\n",
       "      <td>Micah</td>\n",
       "      <td>M</td>\n",
       "      <td>80</td>\n",
       "      <td>Long</td>\n",
       "      <td>262.71302</td>\n",
       "      <td>free</td>\n",
       "      <td>Boston-Cambridge-Newton, MA-NH</td>\n",
       "      <td>PUT</td>\n",
       "      <td>NextSong</td>\n",
       "      <td>2018-09-30 15:20:30</td>\n",
       "      <td>8</td>\n",
       "      <td>Knocking On Forbidden Doors</td>\n",
       "      <td>200</td>\n",
       "      <td>2018-09-30 21:06:56</td>\n",
       "      <td>\"Mozilla/5.0 (Windows NT 6.1; WOW64) AppleWebK...</td>\n",
       "      <td>9</td>\n",
       "    </tr>\n",
       "    <tr>\n",
       "      <th>4</th>\n",
       "      <td>Daft Punk</td>\n",
       "      <td>Logged In</td>\n",
       "      <td>Colin</td>\n",
       "      <td>M</td>\n",
       "      <td>52</td>\n",
       "      <td>Freeman</td>\n",
       "      <td>223.60771</td>\n",
       "      <td>paid</td>\n",
       "      <td>Bakersfield, CA</td>\n",
       "      <td>PUT</td>\n",
       "      <td>NextSong</td>\n",
       "      <td>2018-09-28 19:22:42</td>\n",
       "      <td>29</td>\n",
       "      <td>Harder Better Faster Stronger</td>\n",
       "      <td>200</td>\n",
       "      <td>2018-09-30 21:11:16</td>\n",
       "      <td>Mozilla/5.0 (Windows NT 6.1; WOW64; rv:31.0) G...</td>\n",
       "      <td>30</td>\n",
       "    </tr>\n",
       "  </tbody>\n",
       "</table>\n",
       "</div>"
      ],
      "text/plain": [
       "             artist       auth firstName gender  itemInSession lastName  \\\n",
       "0    Martha Tilston  Logged In     Colin      M             50  Freeman   \n",
       "1  Five Iron Frenzy  Logged In     Micah      M             79     Long   \n",
       "2      Adam Lambert  Logged In     Colin      M             51  Freeman   \n",
       "3            Enigma  Logged In     Micah      M             80     Long   \n",
       "4         Daft Punk  Logged In     Colin      M             52  Freeman   \n",
       "\n",
       "      length level                        location method      page  \\\n",
       "0  277.89016  paid                 Bakersfield, CA    PUT  NextSong   \n",
       "1  236.09424  free  Boston-Cambridge-Newton, MA-NH    PUT  NextSong   \n",
       "2  282.82730  paid                 Bakersfield, CA    PUT  NextSong   \n",
       "3  262.71302  free  Boston-Cambridge-Newton, MA-NH    PUT  NextSong   \n",
       "4  223.60771  paid                 Bakersfield, CA    PUT  NextSong   \n",
       "\n",
       "          registration  sessionId                           song  status  \\\n",
       "0  2018-09-28 19:22:42         29                      Rockpools     200   \n",
       "1  2018-09-30 15:20:30          8                         Canada     200   \n",
       "2  2018-09-28 19:22:42         29              Time For Miracles     200   \n",
       "3  2018-09-30 15:20:30          8    Knocking On Forbidden Doors     200   \n",
       "4  2018-09-28 19:22:42         29  Harder Better Faster Stronger     200   \n",
       "\n",
       "                    ts                                          userAgent  \\\n",
       "0  2018-09-30 21:01:57  Mozilla/5.0 (Windows NT 6.1; WOW64; rv:31.0) G...   \n",
       "1  2018-09-30 21:03:00  \"Mozilla/5.0 (Windows NT 6.1; WOW64) AppleWebK...   \n",
       "2  2018-09-30 21:06:34  Mozilla/5.0 (Windows NT 6.1; WOW64; rv:31.0) G...   \n",
       "3  2018-09-30 21:06:56  \"Mozilla/5.0 (Windows NT 6.1; WOW64) AppleWebK...   \n",
       "4  2018-09-30 21:11:16  Mozilla/5.0 (Windows NT 6.1; WOW64; rv:31.0) G...   \n",
       "\n",
       "   userId  \n",
       "0      30  \n",
       "1       9  \n",
       "2      30  \n",
       "3       9  \n",
       "4      30  "
      ]
     },
     "execution_count": 281,
     "metadata": {},
     "output_type": "execute_result"
    }
   ],
   "source": [
    "users_log.limit(5).toPandas().head()"
   ]
  },
  {
   "cell_type": "code",
   "execution_count": 282,
   "metadata": {},
   "outputs": [
    {
     "data": {
      "text/html": [
       "<div>\n",
       "<style scoped>\n",
       "    .dataframe tbody tr th:only-of-type {\n",
       "        vertical-align: middle;\n",
       "    }\n",
       "\n",
       "    .dataframe tbody tr th {\n",
       "        vertical-align: top;\n",
       "    }\n",
       "\n",
       "    .dataframe thead th {\n",
       "        text-align: right;\n",
       "    }\n",
       "</style>\n",
       "<table border=\"1\" class=\"dataframe\">\n",
       "  <thead>\n",
       "    <tr style=\"text-align: right;\">\n",
       "      <th></th>\n",
       "      <th>summary</th>\n",
       "      <th>artist</th>\n",
       "      <th>auth</th>\n",
       "      <th>firstName</th>\n",
       "      <th>gender</th>\n",
       "      <th>itemInSession</th>\n",
       "      <th>lastName</th>\n",
       "      <th>length</th>\n",
       "      <th>level</th>\n",
       "      <th>location</th>\n",
       "      <th>method</th>\n",
       "      <th>page</th>\n",
       "      <th>registration</th>\n",
       "      <th>sessionId</th>\n",
       "      <th>song</th>\n",
       "      <th>status</th>\n",
       "      <th>ts</th>\n",
       "      <th>userAgent</th>\n",
       "      <th>userId</th>\n",
       "    </tr>\n",
       "  </thead>\n",
       "  <tbody>\n",
       "    <tr>\n",
       "      <th>0</th>\n",
       "      <td>count</td>\n",
       "      <td>228108</td>\n",
       "      <td>286500</td>\n",
       "      <td>278154</td>\n",
       "      <td>278154</td>\n",
       "      <td>286500</td>\n",
       "      <td>278154</td>\n",
       "      <td>228108</td>\n",
       "      <td>286500</td>\n",
       "      <td>278154</td>\n",
       "      <td>286500</td>\n",
       "      <td>286500</td>\n",
       "      <td>278154</td>\n",
       "      <td>286500</td>\n",
       "      <td>228108</td>\n",
       "      <td>286500</td>\n",
       "      <td>286500</td>\n",
       "      <td>278154</td>\n",
       "      <td>278154</td>\n",
       "    </tr>\n",
       "    <tr>\n",
       "      <th>1</th>\n",
       "      <td>mean</td>\n",
       "      <td>551.0852017937219</td>\n",
       "      <td>None</td>\n",
       "      <td>None</td>\n",
       "      <td>None</td>\n",
       "      <td>114.41421291448516</td>\n",
       "      <td>None</td>\n",
       "      <td>249.11718197783722</td>\n",
       "      <td>None</td>\n",
       "      <td>None</td>\n",
       "      <td>None</td>\n",
       "      <td>None</td>\n",
       "      <td>None</td>\n",
       "      <td>1041.526554973822</td>\n",
       "      <td>Infinity</td>\n",
       "      <td>210.05459685863875</td>\n",
       "      <td>None</td>\n",
       "      <td>None</td>\n",
       "      <td>59682.02278593872</td>\n",
       "    </tr>\n",
       "    <tr>\n",
       "      <th>2</th>\n",
       "      <td>stddev</td>\n",
       "      <td>1217.7693079161374</td>\n",
       "      <td>None</td>\n",
       "      <td>None</td>\n",
       "      <td>None</td>\n",
       "      <td>129.76726201141085</td>\n",
       "      <td>None</td>\n",
       "      <td>99.23517921058324</td>\n",
       "      <td>None</td>\n",
       "      <td>None</td>\n",
       "      <td>None</td>\n",
       "      <td>None</td>\n",
       "      <td>None</td>\n",
       "      <td>726.7762634630834</td>\n",
       "      <td>NaN</td>\n",
       "      <td>31.50507848842202</td>\n",
       "      <td>None</td>\n",
       "      <td>None</td>\n",
       "      <td>109091.94999910519</td>\n",
       "    </tr>\n",
       "    <tr>\n",
       "      <th>3</th>\n",
       "      <td>min</td>\n",
       "      <td>!!!</td>\n",
       "      <td>Cancelled</td>\n",
       "      <td>Adelaida</td>\n",
       "      <td>F</td>\n",
       "      <td>0</td>\n",
       "      <td>Adams</td>\n",
       "      <td>0.78322</td>\n",
       "      <td>free</td>\n",
       "      <td>Albany, OR</td>\n",
       "      <td>GET</td>\n",
       "      <td>About</td>\n",
       "      <td>2018-03-18 10:44:35</td>\n",
       "      <td>1</td>\n",
       "      <td>ÃÂg ÃÂtti GrÃÂ¡a ÃÂsku</td>\n",
       "      <td>200</td>\n",
       "      <td>2018-09-30 21:01:57</td>\n",
       "      <td>\"Mozilla/5.0 (Macintosh; Intel Mac OS X 10_10)...</td>\n",
       "      <td>2</td>\n",
       "    </tr>\n",
       "    <tr>\n",
       "      <th>4</th>\n",
       "      <td>max</td>\n",
       "      <td>ÃÂlafur Arnalds</td>\n",
       "      <td>Logged Out</td>\n",
       "      <td>Zyonna</td>\n",
       "      <td>M</td>\n",
       "      <td>1321</td>\n",
       "      <td>Wright</td>\n",
       "      <td>3024.66567</td>\n",
       "      <td>paid</td>\n",
       "      <td>Winston-Salem, NC</td>\n",
       "      <td>PUT</td>\n",
       "      <td>Upgrade</td>\n",
       "      <td>2018-11-26 13:49:14</td>\n",
       "      <td>2474</td>\n",
       "      <td>ÃÂau hafa sloppiÃÂ° undan ÃÂ¾unga myrkursins</td>\n",
       "      <td>404</td>\n",
       "      <td>2018-12-02 23:11:16</td>\n",
       "      <td>Mozilla/5.0 (compatible; MSIE 9.0; Windows NT ...</td>\n",
       "      <td>300025</td>\n",
       "    </tr>\n",
       "  </tbody>\n",
       "</table>\n",
       "</div>"
      ],
      "text/plain": [
       "  summary              artist        auth firstName  gender  \\\n",
       "0   count              228108      286500    278154  278154   \n",
       "1    mean   551.0852017937219        None      None    None   \n",
       "2  stddev  1217.7693079161374        None      None    None   \n",
       "3     min                 !!!   Cancelled  Adelaida       F   \n",
       "4     max   ÃÂlafur Arnalds  Logged Out    Zyonna       M   \n",
       "\n",
       "        itemInSession lastName              length   level           location  \\\n",
       "0              286500   278154              228108  286500             278154   \n",
       "1  114.41421291448516     None  249.11718197783722    None               None   \n",
       "2  129.76726201141085     None   99.23517921058324    None               None   \n",
       "3                   0    Adams             0.78322    free         Albany, OR   \n",
       "4                1321   Wright          3024.66567    paid  Winston-Salem, NC   \n",
       "\n",
       "   method     page         registration          sessionId  \\\n",
       "0  286500   286500               278154             286500   \n",
       "1    None     None                 None  1041.526554973822   \n",
       "2    None     None                 None  726.7762634630834   \n",
       "3     GET    About  2018-03-18 10:44:35                  1   \n",
       "4     PUT  Upgrade  2018-11-26 13:49:14               2474   \n",
       "\n",
       "                                               song              status  \\\n",
       "0                                            228108              286500   \n",
       "1                                          Infinity  210.05459685863875   \n",
       "2                                               NaN   31.50507848842202   \n",
       "3                    \n",
       "ÃÂg ÃÂtti GrÃÂ¡a ÃÂsku                 200   \n",
       "4  ÃÂau hafa sloppiÃÂ° undan ÃÂ¾unga myrkursins                 404   \n",
       "\n",
       "                    ts                                          userAgent  \\\n",
       "0               286500                                             278154   \n",
       "1                 None                                               None   \n",
       "2                 None                                               None   \n",
       "3  2018-09-30 21:01:57  \"Mozilla/5.0 (Macintosh; Intel Mac OS X 10_10)...   \n",
       "4  2018-12-02 23:11:16  Mozilla/5.0 (compatible; MSIE 9.0; Windows NT ...   \n",
       "\n",
       "               userId  \n",
       "0              278154  \n",
       "1   59682.02278593872  \n",
       "2  109091.94999910519  \n",
       "3                   2  \n",
       "4              300025  "
      ]
     },
     "execution_count": 282,
     "metadata": {},
     "output_type": "execute_result"
    }
   ],
   "source": [
    "users_log.describe().toPandas()"
   ]
  },
  {
   "cell_type": "code",
   "execution_count": 283,
   "metadata": {},
   "outputs": [
    {
     "name": "stdout",
     "output_type": "stream",
     "text": [
      "users_log shape:\t (286500, 18)\n",
      "users_log_valid shape:\t (278154, 18)\n",
      "8346 rows with empty user and session IDs removed\n"
     ]
    }
   ],
   "source": [
    "users_log_valid = users_log.dropna(how='any', subset=['userId', 'sessionId'])\n",
    "\n",
    "old_rows, old_columns = users_log.count(), users_log.columns\n",
    "new_rows, new_columns = users_log_valid.count(), users_log_valid.columns\n",
    "\n",
    "print('users_log shape:\\t', (old_rows, len(old_columns)))\n",
    "print('users_log_valid shape:\\t', (new_rows, len(new_columns)))\n",
    "print('{} rows with empty user and session IDs removed'.format(old_rows - new_rows))"
   ]
  },
  {
   "cell_type": "code",
   "execution_count": 139,
   "metadata": {
    "collapsed": true,
    "jupyter": {
     "outputs_hidden": true,
     "source_hidden": true
    }
   },
   "outputs": [
    {
     "data": {
      "image/png": "[encoded data removed]",
      "text/plain": [
       "<Figure size 7500x3500 with 1 Axes>"
      ]
     },
     "metadata": {
      "needs_background": "light"
     },
     "output_type": "display_data"
    }
   ],
   "source": [
    "# DELETE THIS CELL\n",
    "\n",
    "plt.figure(figsize=(15, 7), dpi=500)\n",
    "\n",
    "plt.hist(users_log_valid.select('userID').dropDuplicates().toPandas(), bins=12)\n",
    "plt.xlabel('User ID')\n",
    "plt.ylabel('Users')\n",
    "plt.title('Distribution of user IDs')\n",
    "\n",
    "plt.show();"
   ]
  },
  {
   "cell_type": "code",
   "execution_count": 153,
   "metadata": {},
   "outputs": [
    {
     "name": "stdout",
     "output_type": "stream",
     "text": [
      "Distinct user IDs: 225\n"
     ]
    }
   ],
   "source": [
    "distinct_user_ids = users_log_valid.dropDuplicates(['userId']).count()\n",
    "print('Distinct user IDs:', distinct_user_ids)"
   ]
  },
  {
   "cell_type": "code",
   "execution_count": 300,
   "metadata": {},
   "outputs": [],
   "source": [
    "def print_column_period(df, column):\n",
    "    \"\"\"Prints the earliest and latest dates present in a given dataframe column.\n",
    "    \n",
    "    Parameters:\n",
    "        df (Spark dataframe): \n",
    "        column (String):\n",
    "    \n",
    "    Returns:\n",
    "        start_period (Same as input type): Earliest date from the given column.\n",
    "        end_period (Same as input type): Latest date from the given column.\n",
    "    \"\"\"\n",
    "    \n",
    "    start_period = users_log_valid.select([column]).orderBy(column).limit(1).collect()[0][0]\n",
    "    end_period = users_log_valid.select([column]).orderBy(column, ascending=False).limit(1).collect()[0][0]\n",
    "    \n",
    "    print('Earliest {}:\\t'.format(column), start_period)\n",
    "    print('Latest {}:\\t'.format(column), end_period)\n",
    "    \n",
    "    return"
   ]
  },
  {
   "cell_type": "code",
   "execution_count": 301,
   "metadata": {},
   "outputs": [
    {
     "name": "stdout",
     "output_type": "stream",
     "text": [
      "Earliest registration:\t 2018-03-18 10:44:35\n",
      "Latest registration:\t 2018-11-26 13:49:14\n",
      "Earliest ts:\t 2018-09-30 21:01:57\n",
      "Latest ts:\t 2018-12-02 23:11:16\n"
     ]
    }
   ],
   "source": [
    "# Reiterate important periods from the dataframe, also shown previously with the describe().\n",
    "\n",
    "print_column_period(users_log, 'registration')\n",
    "print_column_period(users_log, 'ts')"
   ]
  },
  {
   "cell_type": "markdown",
   "metadata": {},
   "source": [
    "## 2. Exploratory Data Analysis"
   ]
  },
  {
   "cell_type": "markdown",
   "metadata": {},
   "source": [
    "### Defining Churn\n",
    "Once you've done some preliminary analysis, create a column `Churn` to use as the label for your model. I suggest using the `Cancellation Confirmation` events to define your churn, which happen for both paid and free users. As a bonus task, you can also look into the `Downgrade` events."
   ]
  },
  {
   "cell_type": "code",
   "execution_count": 170,
   "metadata": {
    "collapsed": true,
    "jupyter": {
     "outputs_hidden": true,
     "source_hidden": true
    }
   },
   "outputs": [
    {
     "name": "stdout",
     "output_type": "stream",
     "text": [
      "+---------+-----+------+------------------+\n",
      "|userGroup|users|songs |songsPerUser      |\n",
      "+---------+-----+------+------------------+\n",
      "|1        |152  |171638|1129.1973684210527|\n",
      "|2        |24   |9640  |401.6666666666667 |\n",
      "|3        |24   |16798 |699.9166666666666 |\n",
      "|4        |25   |30032 |1201.28           |\n",
      "+---------+-----+------+------------------+\n",
      "\n"
     ]
    }
   ],
   "source": [
    "# DELETE THIS CELL\n",
    "\n",
    "df_valid.createOrReplaceTempView('log_table')\n",
    "spark.sql(\n",
    "    \"\"\"\n",
    "    WITH\n",
    "    user_group as\n",
    "        (\n",
    "        SELECT\n",
    "            userId,\n",
    "            CASE\n",
    "                WHEN userId > 0 AND userId < 50000 THEN 1\n",
    "                WHEN userId >= 50000 AND userId < 150000 THEN 2\n",
    "                WHEN userId >= 150000 AND userId < 250000 THEN 3\n",
    "                WHEN userId >= 250000 AND userId <= 300025 THEN 4\n",
    "                ELSE 5\n",
    "            END as userGroup,\n",
    "            song\n",
    "        FROM\n",
    "            log_table\n",
    "        WHERE\n",
    "            song IS NOT NULL\n",
    "        )\n",
    "    SELECT\n",
    "        userGroup,\n",
    "        count(DISTINCT userId) as users,\n",
    "        count(song) as songs,\n",
    "        count(song)/count(DISTINCT userId) as songsPerUser\n",
    "    FROM\n",
    "        user_group\n",
    "    GROUP BY\n",
    "        userGroup\n",
    "    ORDER BY\n",
    "        userGroup\n",
    "    \"\"\").show(truncate=False)"
   ]
  },
  {
   "cell_type": "code",
   "execution_count": null,
   "metadata": {
    "jupyter": {
     "source_hidden": true
    }
   },
   "outputs": [],
   "source": [
    "# DELETE THIS CELL\n",
    "\n",
    "df_valid.createOrReplaceTempView('log_table')\n",
    "spark.sql(\n",
    "    \"\"\"\n",
    "    SELECT\n",
    "        userId,\n",
    "        sessionId,\n",
    "        itemInSession\n",
    "    FROM\n",
    "        log_table\n",
    "    WHERE\n",
    "        page = 'Cancellation Confirmation'\n",
    "        --userId = 73\n",
    "        --and sessionId = 1059\n",
    "        --and itemInSession = \n",
    "    \"\"\").show(30, truncate=False)\n",
    "\n",
    "# userId \n",
    "# +------+---------+-------------+\n",
    "# |userId|sessionId|itemInSession|\n",
    "# +------+---------+-------------+\n",
    "# |18    |514      |104          |\n",
    "# |32    |540      |56           |\n",
    "# |125   |174      |10           |\n",
    "# |105   |508      |332          |\n",
    "# |17    |797      |273          |\n",
    "# |143   |843      |29           |\n",
    "# |101   |842      |145          |\n",
    "# |129   |802      |34           |\n",
    "# |121   |881      |287          |\n",
    "# |51    |934      |176          |\n",
    "# |87    |1092     |100          |\n",
    "# |122   |1029     |43           |\n",
    "# |12    |1072     |72           |\n",
    "# |58    |1112     |48           |\n",
    "# |73    |1059     |11           |\n",
    "# |3     |1324     |46           |\n",
    "# |106   |1383     |18           |\n",
    "# |103   |1583     |8            |\n",
    "# |28    |1519     |306          |\n",
    "# |54    |1819     |42           |\n",
    "# |29    |1864     |49           |\n",
    "# |70    |1940     |91           |\n",
    "# |53    |2003     |110          |\n",
    "# |100011|40       |22           |\n",
    "# |100001|53       |23           |\n",
    "# |100024|42       |36           |\n",
    "# |100006|6        |45           |\n",
    "# |100019|71       |65           |\n",
    "# |100003|86       |81           |\n",
    "# |100023|109      |18           |\n",
    "# +------+---------+-------------+"
   ]
  },
  {
   "cell_type": "code",
   "execution_count": 284,
   "metadata": {},
   "outputs": [],
   "source": [
    "flag_cancellation_event = udf(lambda x: 1 if x == 'Cancellation Confirmation' else 0, IntegerType())\n",
    "users_log_valid = users_log_valid.withColumn('churn', flag_cancellation_event('page'))"
   ]
  },
  {
   "cell_type": "markdown",
   "metadata": {},
   "source": [
    "### Exploring Data\n",
    "Once you've defined churn, perform some exploratory data analysis to observe the behavior for users who stayed vs users who churned. You can start by exploring aggregates on these two groups of users, observing how much of a specific action they experienced per a certain time unit or number of songs played."
   ]
  },
  {
   "cell_type": "code",
   "execution_count": 16,
   "metadata": {},
   "outputs": [],
   "source": [
    "def group_by_count_column(df, column):\n",
    "    \"\"\"Perform a group by and count the values from a desired column.\n",
    "    \n",
    "    Parameters:\n",
    "        df (Spark dataframe): The dataframe that contains the column.\n",
    "        column (String): The name of the column, from the df, to perform the group by and count its values.\n",
    "    \n",
    "    Returns:\n",
    "        None.\n",
    "    \"\"\"\n",
    "    \n",
    "    df.select(column).groupby(column).count().orderBy('count', ascending=False).show(truncate=False)\n",
    "    \n",
    "    return"
   ]
  },
  {
   "cell_type": "code",
   "execution_count": 17,
   "metadata": {},
   "outputs": [
    {
     "name": "stdout",
     "output_type": "stream",
     "text": [
      "+----------------------+-----+\n",
      "|artist                |count|\n",
      "+----------------------+-----+\n",
      "|null                  |50046|\n",
      "|Kings Of Leon         |1841 |\n",
      "|Coldplay              |1813 |\n",
      "|Florence + The Machine|1236 |\n",
      "|Dwight Yoakam         |1135 |\n",
      "|BjÃÂ¶rk              |1133 |\n",
      "|The Black Keys        |1125 |\n",
      "|Muse                  |1090 |\n",
      "|Justin Bieber         |1044 |\n",
      "|Jack Johnson          |1007 |\n",
      "|Eminem                |953  |\n",
      "|Radiohead             |884  |\n",
      "|Alliance Ethnik       |876  |\n",
      "|Train                 |854  |\n",
      "|Taylor Swift          |840  |\n",
      "|OneRepublic           |828  |\n",
      "|The Killers           |822  |\n",
      "|Linkin Park           |787  |\n",
      "|Evanescence           |781  |\n",
      "|Harmonia              |729  |\n",
      "+----------------------+-----+\n",
      "only showing top 20 rows\n",
      "\n",
      "+---------+------+\n",
      "|auth     |count |\n",
      "+---------+------+\n",
      "|Logged In|278102|\n",
      "|Cancelled|52    |\n",
      "+---------+------+\n",
      "\n",
      "+------+------+\n",
      "|gender|count |\n",
      "+------+------+\n",
      "|F     |154578|\n",
      "|M     |123576|\n",
      "+------+------+\n",
      "\n",
      "+------+------+\n",
      "|method|count |\n",
      "+------+------+\n",
      "|PUT   |257818|\n",
      "|GET   |20336 |\n",
      "+------+------+\n",
      "\n",
      "+-------------------------+------+\n",
      "|page                     |count |\n",
      "+-------------------------+------+\n",
      "|NextSong                 |228108|\n",
      "|Thumbs Up                |12551 |\n",
      "|Home                     |10082 |\n",
      "|Add to Playlist          |6526  |\n",
      "|Add Friend               |4277  |\n",
      "|Roll Advert              |3933  |\n",
      "|Logout                   |3226  |\n",
      "|Thumbs Down              |2546  |\n",
      "|Downgrade                |2055  |\n",
      "|Settings                 |1514  |\n",
      "|Help                     |1454  |\n",
      "|Upgrade                  |499   |\n",
      "|About                    |495   |\n",
      "|Save Settings            |310   |\n",
      "|Error                    |252   |\n",
      "|Submit Upgrade           |159   |\n",
      "|Submit Downgrade         |63    |\n",
      "|Cancel                   |52    |\n",
      "|Cancellation Confirmation|52    |\n",
      "+-------------------------+------+\n",
      "\n",
      "+-------------------------------------------------------------------+-----+\n",
      "|song                                                               |count|\n",
      "+-------------------------------------------------------------------+-----+\n",
      "|null                                                               |50046|\n",
      "|You're The One                                                     |1153 |\n",
      "|Undo                                                               |1026 |\n",
      "|Revelry                                                            |854  |\n",
      "|Sehr kosmisch                                                      |728  |\n",
      "|Horn Concerto No. 4 in E flat K495: II. Romance (Andante cantabile)|641  |\n",
      "|Dog Days Are Over (Radio Edit)                                     |574  |\n",
      "|Secrets                                                            |466  |\n",
      "|Use Somebody                                                       |459  |\n",
      "|Canada                                                             |435  |\n",
      "|Invalid                                                            |424  |\n",
      "|Ain't Misbehavin                                                   |409  |\n",
      "|ReprÃÂ©sente                                                      |393  |\n",
      "|SinceritÃÂ© Et Jalousie                                           |384  |\n",
      "|Catch You Baby (Steve Pitron & Max Sanna Radio Edit)               |373  |\n",
      "|Yellow                                                             |343  |\n",
      "|Somebody To Love                                                   |343  |\n",
      "|Hey_ Soul Sister                                                   |334  |\n",
      "|The Gift                                                           |327  |\n",
      "|Fireflies                                                          |312  |\n",
      "+-------------------------------------------------------------------+-----+\n",
      "only showing top 20 rows\n",
      "\n",
      "+------+------+\n",
      "|status|count |\n",
      "+------+------+\n",
      "|200   |254718|\n",
      "|307   |23184 |\n",
      "|404   |252   |\n",
      "+------+------+\n",
      "\n"
     ]
    }
   ],
   "source": [
    "categorical_columns = ['artist', 'auth', 'gender', 'method', 'page', 'song', 'status']\n",
    "\n",
    "for column in categorical_columns:\n",
    "        group_by_count_column(df_valid, column)"
   ]
  },
  {
   "cell_type": "code",
   "execution_count": null,
   "metadata": {},
   "outputs": [],
   "source": [
    "df_valid.createOrReplaceTempView('log_table')\n",
    "df_valid = spark.sql(\n",
    "    \"\"\"\n",
    "    SELECT\n",
    "        *,\n",
    "        to_date(from_unixtime(registration / 1000)) as registration,\n",
    "        substring(to_date(from_unixtime(registration / 1000)), 1, 7) as cohort\n",
    "    FROM\n",
    "        log_table\n",
    "    ORDER BY\n",
    "        registration\n",
    "    \"\"\")"
   ]
  },
  {
   "cell_type": "code",
   "execution_count": 221,
   "metadata": {},
   "outputs": [],
   "source": [
    "user_acquisition = users_log_valid.select(['userId', 'registration']).dropDuplicates()\n",
    "user_acquisition = user_acquisition.select(['registration']).orderBy('registration')\n",
    "user_acquisition = user_acquisition.withColumn('registration', (col('registration') / 1000))\n",
    "\n",
    "x = user_acquisition.withColumn('registration', from_unixtime('registration')).toPandas()['registration'].tolist()\n",
    "y = list(range(1, len(x) + 1))"
   ]
  },
  {
   "cell_type": "code",
   "execution_count": null,
   "metadata": {},
   "outputs": [],
   "source": [
    "plt.figure(figsize=(14, 7), dpi=500)\n",
    "plt.plot(x, y)\n",
    "plt.xlabel('Number of latent features')\n",
    "plt.ylabel('Accuracy')\n",
    "plt.title('Accuracy vs. Number of latent features');"
   ]
  },
  {
   "cell_type": "markdown",
   "metadata": {},
   "source": [
    "## 3. Feature Engineering\n",
    "Once you've familiarized yourself with the data, build out the features you find promising to train your model on. To work with the full dataset, you can follow the following steps.\n",
    "\n",
    "- Write a script to extract the necessary features from the smaller subset of data\n",
    "- Ensure that your script is scalable, using the best practices discussed in Lesson 3\n",
    "- Try your script on the full data set, debugging your script if necessary\n",
    "\n",
    "If you are working in the classroom workspace, you can just extract features based on the small subset of data contained here. Be sure to transfer over this work to the larger dataset when you work on your Spark cluster."
   ]
  },
  {
   "cell_type": "code",
   "execution_count": 258,
   "metadata": {},
   "outputs": [
    {
     "name": "stdout",
     "output_type": "stream",
     "text": [
      "+------+-------------------------------------------------------------------------------------------------------------------------------------------+\n",
      "|userId|userAgent                                                                                                                                  |\n",
      "+------+-------------------------------------------------------------------------------------------------------------------------------------------+\n",
      "|26    |Mozilla/5.0 (Windows NT 6.1; WOW64; rv:31.0) Gecko/20100101 Firefox/31.0                                                                   |\n",
      "|29    |\"Mozilla/5.0 (Macintosh; Intel Mac OS X 10_9_4) AppleWebKit/537.77.4 (KHTML, like Gecko) Version/7.0.5 Safari/537.77.4\"                    |\n",
      "|65    |Mozilla/5.0 (X11; Linux x86_64; rv:31.0) Gecko/20100101 Firefox/31.0                                                                       |\n",
      "|100016|\"Mozilla/5.0 (X11; Linux x86_64) AppleWebKit/537.36 (KHTML, like Gecko) Chrome/36.0.1985.143 Safari/537.36\"                                |\n",
      "|100012|\"Mozilla/5.0 (Macintosh; Intel Mac OS X 10_9_4) AppleWebKit/537.78.2 (KHTML, like Gecko) Version/7.0.6 Safari/537.78.2\"                    |\n",
      "|19    |Mozilla/5.0 (Windows NT 6.1; WOW64; Trident/7.0; rv:11.0) like Gecko                                                                       |\n",
      "|54    |Mozilla/5.0 (Windows NT 6.1; WOW64; rv:32.0) Gecko/20100101 Firefox/32.0                                                                   |\n",
      "|200003|\"Mozilla/5.0 (Windows NT 6.1; WOW64) AppleWebKit/537.36 (KHTML, like Gecko) Chrome/36.0.1985.143 Safari/537.36\"                            |\n",
      "|200014|\"Mozilla/5.0 (Macintosh; Intel Mac OS X 10_9_4) AppleWebKit/537.78.2 (KHTML, like Gecko) Version/7.0.6 Safari/537.78.2\"                    |\n",
      "|100017|\"Mozilla/5.0 (iPhone; CPU iPhone OS 7_1_2 like Mac OS X) AppleWebKit/537.51.2 (KHTML, like Gecko) Version/7.0 Mobile/11D257 Safari/9537.53\"|\n",
      "|112   |Mozilla/5.0 (Windows NT 6.1; WOW64; rv:31.0) Gecko/20100101 Firefox/31.0                                                                   |\n",
      "|113   |\"Mozilla/5.0 (Macintosh; Intel Mac OS X 10_9_4) AppleWebKit/537.36 (KHTML, like Gecko) Chrome/37.0.2062.94 Safari/537.36\"                  |\n",
      "|155   |\"Mozilla/5.0 (Windows NT 6.1; WOW64) AppleWebKit/537.36 (KHTML, like Gecko) Chrome/36.0.1985.143 Safari/537.36\"                            |\n",
      "|22    |Mozilla/5.0 (Windows NT 6.1; WOW64; Trident/7.0; rv:11.0) like Gecko                                                                       |\n",
      "|200008|\"Mozilla/5.0 (Windows NT 6.1) AppleWebKit/537.36 (KHTML, like Gecko) Chrome/36.0.1985.143 Safari/537.36\"                                   |\n",
      "|7     |Mozilla/5.0 (Windows NT 6.1; rv:31.0) Gecko/20100101 Firefox/31.0                                                                          |\n",
      "|77    |\"Mozilla/5.0 (Windows NT 6.1; WOW64) AppleWebKit/537.36 (KHTML, like Gecko) Chrome/36.0.1985.125 Safari/537.36\"                            |\n",
      "|34    |\"Mozilla/5.0 (Macintosh; Intel Mac OS X 10_9_4) AppleWebKit/537.36 (KHTML, like Gecko) Chrome/36.0.1985.125 Safari/537.36\"                 |\n",
      "|300015|\"Mozilla/5.0 (iPhone; CPU iPhone OS 7_1_2 like Mac OS X) AppleWebKit/537.51.2 (KHTML, like Gecko) Version/7.0 Mobile/11D257 Safari/9537.53\"|\n",
      "|126   |\"Mozilla/5.0 (Windows NT 6.1; WOW64) AppleWebKit/537.36 (KHTML, like Gecko) Chrome/37.0.2062.94 Safari/537.36\"                             |\n",
      "+------+-------------------------------------------------------------------------------------------------------------------------------------------+\n",
      "only showing top 20 rows\n",
      "\n"
     ]
    }
   ],
   "source": [
    "users_log.select(['userId', 'userAgent']).dropDuplicates(['userId']).show(truncate=False)"
   ]
  },
  {
   "cell_type": "code",
   "execution_count": null,
   "metadata": {},
   "outputs": [],
   "source": []
  },
  {
   "cell_type": "markdown",
   "metadata": {},
   "source": [
    "## 4. Modeling\n",
    "Split the full dataset into train, test, and validation sets. Test out several of the machine learning methods you learned. Evaluate the accuracy of the various models, tuning parameters as necessary. Determine your winning model based on test accuracy and report results on the validation set. Since the churned users are a fairly small subset, I suggest using F1 score as the metric to optimize."
   ]
  },
  {
   "cell_type": "code",
   "execution_count": null,
   "metadata": {},
   "outputs": [],
   "source": []
  },
  {
   "cell_type": "markdown",
   "metadata": {},
   "source": [
    "## 5. Final Steps\n",
    "Clean up your code, adding comments and renaming variables to make the code easier to read and maintain. Refer to the Spark Project Overview page and Data Scientist Capstone Project Rubric to make sure you are including all components of the capstone project and meet all expectations. Remember, this includes thorough documentation in a README file in a Github repository, as well as a web app or blog post."
   ]
  }
 ],
 "metadata": {
  "kernelspec": {
   "display_name": "Python 3",
   "language": "python",
   "name": "python3"
  },
  "language_info": {
   "codemirror_mode": {
    "name": "ipython",
    "version": 3
   },
   "file_extension": ".py",
   "mimetype": "text/x-python",
   "name": "python",
   "nbconvert_exporter": "python",
   "pygments_lexer": "ipython3",
   "version": "3.7.9"
  }
 },
 "nbformat": 4,
 "nbformat_minor": 4
}
